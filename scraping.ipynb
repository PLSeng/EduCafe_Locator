{
 "cells": [
  {
   "cell_type": "code",
   "execution_count": 5,
   "metadata": {},
   "outputs": [],
   "source": [
    "import requests\n",
    "import pandas as pd\n",
    "\n",
    "# Function to read API key from a file\n",
    "def read_api_key(file_path):\n",
    "    with open(file_path, 'r') as file:\n",
    "        return file.read().strip()\n",
    "\n",
    "# Read the API key from the file\n",
    "API_KEY = read_api_key('../API_key.txt')\n",
    "location = '11.547301, 104.897463'  # Example: Latitude and Longitude of Phnom Penh, Cambodia\n",
    "radius = 10000  # Radius in meters\n",
    "\n",
    "# Define the types of educational buildings you want to search for\n",
    "types = [\n",
    "    'school', 'university', 'library', 'book_store', \n",
    "    'museum', 'training', 'academy', 'college', \n",
    "    'kindergarten', 'primary_school', 'secondary_school'\n",
    "]\n",
    "\n",
    "all_results = []\n",
    "\n",
    "def fetch_places(place_type, location, radius, api_key, next_page_token=None):\n",
    "    url = f\"https://maps.googleapis.com/maps/api/place/nearbysearch/json?location={location}&radius={radius}&type={place_type}&key={api_key}\"\n",
    "    if next_page_token:\n",
    "        url += f\"&pagetoken={next_page_token}\"\n",
    "    \n",
    "    response = requests.get(url)\n",
    "    return response.json()"
   ]
  },
  {
   "cell_type": "code",
   "execution_count": 2,
   "metadata": {},
   "outputs": [],
   "source": [
    "for place_type in types:\n",
    "    data = fetch_places(place_type, location, radius, API_KEY)\n",
    "    all_results.extend(data['results'])\n",
    "    \n",
    "    # Handle pagination if there are more results\n",
    "    while 'next_page_token' in data:\n",
    "        next_page_token = data['next_page_token']\n",
    "        data = fetch_places(place_type, location, radius, API_KEY, next_page_token)\n",
    "        all_results.extend(data['results'])\n",
    "\n",
    "# Remove duplicates based on place_id\n",
    "unique_results = {place['place_id']: place for place in all_results}.values()\n",
    "\n",
    "# Prepare data for pandas DataFrame\n",
    "data_for_df = []\n",
    "for place in unique_results:\n",
    "    data_for_df.append({\n",
    "        'Name': place['name'],\n",
    "        'Address': place.get('vicinity'),\n",
    "        'Latitude': place['geometry']['location']['lat'],\n",
    "        'Longitude': place['geometry']['location']['lng'],\n",
    "        'Type': ', '.join(place['types'])\n",
    "    })"
   ]
  },
  {
   "cell_type": "code",
   "execution_count": 3,
   "metadata": {},
   "outputs": [
    {
     "data": {
      "text/plain": [
       "183"
      ]
     },
     "execution_count": 3,
     "metadata": {},
     "output_type": "execute_result"
    }
   ],
   "source": [
    "len(data_for_df)"
   ]
  },
  {
   "cell_type": "code",
   "execution_count": 4,
   "metadata": {},
   "outputs": [
    {
     "name": "stdout",
     "output_type": "stream",
     "text": [
      "                                                  Name  \\\n",
      "0             CJCC (Cambodia-Japan Cooperation Center)   \n",
      "1                               Angkor Computer Center   \n",
      "2            SAS Santhormuk - Stanford American School   \n",
      "3                 Sovannaphumi School, Tep Phan Campus   \n",
      "4    Aii Language Center (Aii), Mao Tse Tong (QLH B...   \n",
      "..                                                 ...   \n",
      "178                        Chea Sim Samaki High School   \n",
      "179                                          សាលាជប៉ុន   \n",
      "180                                             School   \n",
      "181                         Chamreun Phorl High School   \n",
      "182  American Intercon School (AIS): MAO TSE TONG C...   \n",
      "\n",
      "                                              Address   Latitude   Longitude  \\\n",
      "0    Rupp-CJCC, មហាវិថី សហពន្ធ័រុស្ស៊ី (១១០), ភ្នំពេញ  11.568929  104.893694   \n",
      "1                        #95E0, Saint 164, Phnom Penh  11.563684  104.912819   \n",
      "2               #197, St.146, Teuk laok 2, Phnom Penh  11.564989  104.899767   \n",
      "3             6A Oknha Tep Phan St. (182), Phnom Penh  11.563052  104.900276   \n",
      "4                 217 ABCD Mao Tse Tong Blvd, ភ្នំពេញ  11.546374  104.907986   \n",
      "..                                                ...        ...         ...   \n",
      "178                   វិទ្យាល័យជាស៊ីមសាមគ្គី, ភ្នំពេញ  11.549696  104.891612   \n",
      "179                            12351 71BT, Phnom Penh  11.540486  104.901749   \n",
      "180                              HV2R+52H, Phnom Penh  11.550881  104.889932   \n",
      "181                 GWR3+CFC, Street 73BT, Phnom Penh  11.541072  104.903651   \n",
      "182               GWW5+J48, 11A Saint 402, Phnom Penh  11.546291  104.908098   \n",
      "\n",
      "                                                  Type  \n",
      "0             school, point_of_interest, establishment  \n",
      "1             school, point_of_interest, establishment  \n",
      "2    school, primary_school, secondary_school, poin...  \n",
      "3             school, point_of_interest, establishment  \n",
      "4             school, point_of_interest, establishment  \n",
      "..                                                 ...  \n",
      "178  secondary_school, school, point_of_interest, e...  \n",
      "179  secondary_school, school, point_of_interest, e...  \n",
      "180  secondary_school, school, point_of_interest, e...  \n",
      "181  secondary_school, school, point_of_interest, e...  \n",
      "182  primary_school, secondary_school, school, poin...  \n",
      "\n",
      "[183 rows x 5 columns]\n"
     ]
    }
   ],
   "source": [
    "# Create pandas DataFrame\n",
    "df = pd.DataFrame(data_for_df)\n",
    "print(df)\n",
    "\n",
    "# Optionally, save the DataFrame to a excel file\n",
    "df.to_excel('educational_buildings.xlsx', index=False)"
   ]
  }
 ],
 "metadata": {
  "kernelspec": {
   "display_name": "venv",
   "language": "python",
   "name": "python3"
  },
  "language_info": {
   "codemirror_mode": {
    "name": "ipython",
    "version": 3
   },
   "file_extension": ".py",
   "mimetype": "text/x-python",
   "name": "python",
   "nbconvert_exporter": "python",
   "pygments_lexer": "ipython3",
   "version": "3.11.5"
  }
 },
 "nbformat": 4,
 "nbformat_minor": 2
}
